{
 "cells": [
  {
   "cell_type": "markdown",
   "id": "7e7ff159",
   "metadata": {},
   "source": [
    "1. Perform the following statistical analysis on the fifa world cup dataset. The dataset consists of player information which includes height, weight overall rating, potential etc. Data Cleaning and basic EDA process needs to be performed. \n",
    "\n",
    "a)\tAssuming age as population, perform the central limit theorem with sample size of 200. Find the standard error and the mean of sampling distribution. Compare the results with population mean and standard deviation. Explain in non-technical terms why the estimated standard error of a sample mean tends to decrease with an increase in sample size\n",
    "\n",
    "b)\tIs there any evidence that the players overall rating is greater than 80?\n",
    "\n",
    "c)\tPerform the statistical test to identify whether preferred foot has any impact on potential. Also, perform the graphical analysis.\n",
    "\n",
    "d)\tPerform the statistical test to identify the relation between the overall rating and potential. [Assume both are continuous data points].\n",
    "\n",
    "e)\tDoes skill move have any effect in overall rating. Perform the graphical analysis and the statistical analysis.\n",
    "\n",
    "Note: \n",
    "1) Perform all the Statistical analysis with 5%(Significance level). \n",
    "2) Perform the test of normality and test of variance in the appropriate places."
   ]
  },
  {
   "cell_type": "markdown",
   "id": "c9fc5df6",
   "metadata": {},
   "source": [
    "2. Perform the following statistical analysis on the mobile network dataset given. The given data set contains information about the internet, calls, messages of various network. Data Cleaning and basic EDA process needs to be performed. \n",
    "\n",
    "a) With 95% & 99% Confidence Interval find the range estimate of average duration calls made by all the network. Which of the Intervals are wider? Interpret the results.\n",
    "b) Perform statistical analysis to check whether the networks are equally distributed in the dataset.\n",
    "c) Plot the distribution of duration with respect to each network in the same graph and Interpret the results from the graph.\n",
    "d)\tPerform statistical tests to identify the relation between item and duration. Detailed \n",
    "explanation of relation between the classes is required.\n",
    "e)\tPerform statistical tests to identify the relation between network and network_type. \n",
    "Note: \n",
    "1) Perform all the Statistical analysis with 5%(Significance level). \n",
    "2) Perform the test of normality and test of variance in the appropriate places."
   ]
  },
  {
   "cell_type": "code",
   "execution_count": 33,
   "id": "7bafa18e",
   "metadata": {},
   "outputs": [],
   "source": [
    "import pandas as pd \n",
    "import numpy as np\n",
    "import matplotlib.pyplot as plt\n",
    "import seaborn as sns\n",
    "\n",
    "# display all columns of the dataframe\n",
    "pd.options.display.max_columns = None\n",
    "\n",
    "# import statsmodels\n",
    "import statsmodels.api as sm\n",
    "from statsmodels.formula.api import ols\n",
    "from statsmodels.stats.anova import anova_lm\n",
    "\n",
    "# import 'stats' package from scipy library\n",
    "from scipy import stats as st\n",
    "from scipy.stats import randint\n",
    "\n",
    "# import statistics to perform statistical computations\n",
    "import statistics\n",
    "import random\n",
    "# to test the normality \n",
    "from scipy.stats import shapiro\n",
    "from scipy.stats import levene\n",
    "from scipy.stats import kruskal\n",
    "# import a library to perform Z-test\n",
    "from statsmodels.stats import weightstats as stests\n",
    "\n",
    "\n",
    "# import the functions to perform Chi-square tests\n",
    "from scipy.stats import chi2_contingency\n",
    "from scipy.stats import chi2\n",
    "from scipy.stats import chisquare\n",
    "\n",
    "# function to perform post-hoc test\n",
    "import statsmodels.stats.multicomp as mc\n",
    "\n",
    "# import function to perform post-hoc\n",
    "# install scikit_posthocs using \"!pip install scikit_posthocs\" \n",
    "import scikit_posthocs"
   ]
  },
  {
   "cell_type": "code",
   "execution_count": 2,
   "id": "41f88861",
   "metadata": {},
   "outputs": [
    {
     "data": {
      "text/html": [
       "<div>\n",
       "<style scoped>\n",
       "    .dataframe tbody tr th:only-of-type {\n",
       "        vertical-align: middle;\n",
       "    }\n",
       "\n",
       "    .dataframe tbody tr th {\n",
       "        vertical-align: top;\n",
       "    }\n",
       "\n",
       "    .dataframe thead th {\n",
       "        text-align: right;\n",
       "    }\n",
       "</style>\n",
       "<table border=\"1\" class=\"dataframe\">\n",
       "  <thead>\n",
       "    <tr style=\"text-align: right;\">\n",
       "      <th></th>\n",
       "      <th>Name</th>\n",
       "      <th>Age</th>\n",
       "      <th>Nationality</th>\n",
       "      <th>Overall_rating</th>\n",
       "      <th>Potential</th>\n",
       "      <th>Club</th>\n",
       "      <th>Preferred Foot</th>\n",
       "      <th>International Reputation</th>\n",
       "      <th>Weak Foot</th>\n",
       "      <th>Skill Moves</th>\n",
       "      <th>Work Rate</th>\n",
       "      <th>Position</th>\n",
       "      <th>Jersey Number</th>\n",
       "      <th>Height</th>\n",
       "      <th>Weight</th>\n",
       "    </tr>\n",
       "  </thead>\n",
       "  <tbody>\n",
       "    <tr>\n",
       "      <th>0</th>\n",
       "      <td>L. Messi</td>\n",
       "      <td>31</td>\n",
       "      <td>Argentina</td>\n",
       "      <td>94</td>\n",
       "      <td>94</td>\n",
       "      <td>FC Barcelona</td>\n",
       "      <td>Left</td>\n",
       "      <td>5</td>\n",
       "      <td>4</td>\n",
       "      <td>4</td>\n",
       "      <td>Medium/ Medium</td>\n",
       "      <td>RF</td>\n",
       "      <td>10</td>\n",
       "      <td>5.583333</td>\n",
       "      <td>159</td>\n",
       "    </tr>\n",
       "    <tr>\n",
       "      <th>1</th>\n",
       "      <td>Cristiano Ronaldo</td>\n",
       "      <td>33</td>\n",
       "      <td>Portugal</td>\n",
       "      <td>94</td>\n",
       "      <td>94</td>\n",
       "      <td>Juventus</td>\n",
       "      <td>Right</td>\n",
       "      <td>5</td>\n",
       "      <td>4</td>\n",
       "      <td>5</td>\n",
       "      <td>High/ Low</td>\n",
       "      <td>ST</td>\n",
       "      <td>7</td>\n",
       "      <td>6.166667</td>\n",
       "      <td>183</td>\n",
       "    </tr>\n",
       "    <tr>\n",
       "      <th>2</th>\n",
       "      <td>Neymar Jr</td>\n",
       "      <td>26</td>\n",
       "      <td>Brazil</td>\n",
       "      <td>92</td>\n",
       "      <td>93</td>\n",
       "      <td>Paris Saint-Germain</td>\n",
       "      <td>Right</td>\n",
       "      <td>5</td>\n",
       "      <td>5</td>\n",
       "      <td>5</td>\n",
       "      <td>High/ Medium</td>\n",
       "      <td>LW</td>\n",
       "      <td>10</td>\n",
       "      <td>5.750000</td>\n",
       "      <td>150</td>\n",
       "    </tr>\n",
       "    <tr>\n",
       "      <th>3</th>\n",
       "      <td>De Gea</td>\n",
       "      <td>27</td>\n",
       "      <td>Spain</td>\n",
       "      <td>91</td>\n",
       "      <td>93</td>\n",
       "      <td>Manchester United</td>\n",
       "      <td>Right</td>\n",
       "      <td>4</td>\n",
       "      <td>3</td>\n",
       "      <td>1</td>\n",
       "      <td>Medium/ Medium</td>\n",
       "      <td>GK</td>\n",
       "      <td>1</td>\n",
       "      <td>6.333333</td>\n",
       "      <td>168</td>\n",
       "    </tr>\n",
       "    <tr>\n",
       "      <th>4</th>\n",
       "      <td>K. De Bruyne</td>\n",
       "      <td>27</td>\n",
       "      <td>Belgium</td>\n",
       "      <td>91</td>\n",
       "      <td>92</td>\n",
       "      <td>Manchester City</td>\n",
       "      <td>Right</td>\n",
       "      <td>4</td>\n",
       "      <td>5</td>\n",
       "      <td>4</td>\n",
       "      <td>High/ High</td>\n",
       "      <td>RCM</td>\n",
       "      <td>7</td>\n",
       "      <td>5.083333</td>\n",
       "      <td>154</td>\n",
       "    </tr>\n",
       "  </tbody>\n",
       "</table>\n",
       "</div>"
      ],
      "text/plain": [
       "                Name  Age Nationality  Overall_rating  Potential  \\\n",
       "0           L. Messi   31   Argentina              94         94   \n",
       "1  Cristiano Ronaldo   33    Portugal              94         94   \n",
       "2          Neymar Jr   26      Brazil              92         93   \n",
       "3             De Gea   27       Spain              91         93   \n",
       "4       K. De Bruyne   27     Belgium              91         92   \n",
       "\n",
       "                  Club Preferred Foot  International Reputation  Weak Foot  \\\n",
       "0         FC Barcelona           Left                         5          4   \n",
       "1             Juventus          Right                         5          4   \n",
       "2  Paris Saint-Germain          Right                         5          5   \n",
       "3    Manchester United          Right                         4          3   \n",
       "4      Manchester City          Right                         4          5   \n",
       "\n",
       "   Skill Moves       Work Rate Position  Jersey Number    Height  Weight  \n",
       "0            4  Medium/ Medium       RF             10  5.583333     159  \n",
       "1            5       High/ Low       ST              7  6.166667     183  \n",
       "2            5    High/ Medium       LW             10  5.750000     150  \n",
       "3            1  Medium/ Medium       GK              1  6.333333     168  \n",
       "4            4      High/ High      RCM              7  5.083333     154  "
      ]
     },
     "execution_count": 2,
     "metadata": {},
     "output_type": "execute_result"
    }
   ],
   "source": [
    "df=pd.read_csv('fifa_stats.csv')\n",
    "df.head(5)"
   ]
  },
  {
   "cell_type": "code",
   "execution_count": 3,
   "id": "f284ceff",
   "metadata": {},
   "outputs": [
    {
     "data": {
      "text/plain": [
       "Name                         0\n",
       "Age                          0\n",
       "Nationality                  0\n",
       "Overall_rating               0\n",
       "Potential                    0\n",
       "Club                        19\n",
       "Preferred Foot               0\n",
       "International Reputation     0\n",
       "Weak Foot                    0\n",
       "Skill Moves                  0\n",
       "Work Rate                    0\n",
       "Position                     0\n",
       "Jersey Number                0\n",
       "Height                       0\n",
       "Weight                       0\n",
       "dtype: int64"
      ]
     },
     "execution_count": 3,
     "metadata": {},
     "output_type": "execute_result"
    }
   ],
   "source": [
    "df.isnull().sum()"
   ]
  },
  {
   "cell_type": "markdown",
   "id": "3af39667",
   "metadata": {},
   "source": [
    "#### Q1a) central limit theorem with sample size of 200 for Age\n",
    "     Find the standard error and the mean of sampling distribution.\n",
    "     Compare the results with population mean and standard deviation  "
   ]
  },
  {
   "cell_type": "code",
   "execution_count": 4,
   "id": "8a5851ae",
   "metadata": {},
   "outputs": [],
   "source": [
    "# Getting the sample\n",
    "sample=random.sample(population=list(df['Age']),k=200)"
   ]
  },
  {
   "cell_type": "code",
   "execution_count": 5,
   "id": "c8b8a9d4",
   "metadata": {},
   "outputs": [
    {
     "name": "stdout",
     "output_type": "stream",
     "text": [
      "Mean of the sample  27.825\n",
      "Standard error of the sample  0.2728768396819654\n",
      "Popltn mean 27.2315\n",
      "Popltn stand devtn  3.8590612753574423\n"
     ]
    }
   ],
   "source": [
    "n=200\n",
    "xbar=np.mean(sample)  # sample mean\n",
    "mu=df['Age'].mean()   # pop mean\n",
    "sigma=df['Age'].std()  # pop std\n",
    "std_error= sigma/(np.sqrt(n))\n",
    "print('Mean of the sample ',xbar)\n",
    "print('Standard error of the sample ',std_error)\n",
    "print('Popltn mean',mu)\n",
    "print('Popltn stand devtn ',sigma)"
   ]
  },
  {
   "cell_type": "markdown",
   "id": "038515a9",
   "metadata": {},
   "source": [
    "The Standard error describes how precise the mean of the sample is as an estimate of the true mean of the population. When sample size increases the std error decreases since the sample size is nearing the population size and the chance of errror will decrease."
   ]
  },
  {
   "cell_type": "markdown",
   "id": "350906c2",
   "metadata": {},
   "source": [
    "##### b)\tIs there any evidence that the players overall rating is greater than 80?"
   ]
  },
  {
   "cell_type": "code",
   "execution_count": 6,
   "id": "f0ccc538",
   "metadata": {},
   "outputs": [
    {
     "name": "stdout",
     "output_type": "stream",
     "text": [
      "p value of shapiro :  1.1621931546204178e-14\n"
     ]
    }
   ],
   "source": [
    "# H1 : mu>80 ; H0 : mu<=80\n",
    "# checking the normality\n",
    "samp_over_rating=random.sample(population=list(df['Overall_rating']),k=200)\n",
    "stat,p_value=shapiro(samp_over_rating)\n",
    "print('p value of shapiro : ',p_value)"
   ]
  },
  {
   "cell_type": "markdown",
   "id": "ebd8b49b",
   "metadata": {},
   "source": [
    " Since p value is less than 0.05 the data is not normal. So conduct non parametric test."
   ]
  },
  {
   "cell_type": "code",
   "execution_count": 7,
   "id": "fbe389e2",
   "metadata": {},
   "outputs": [
    {
     "data": {
      "text/plain": [
       "WilcoxonResult(statistic=8959.0, pvalue=0.0001384041212083532)"
      ]
     },
     "execution_count": 7,
     "metadata": {},
     "output_type": "execute_result"
    }
   ],
   "source": [
    "# H0 : pop median <= 80\n",
    "# H1 : pop median > 80 #right tail\n",
    "samp_median=np.median(samp_over_rating)\n",
    "diff=samp_over_rating-samp_median\n",
    "stats.wilcoxon(diff,alternative='greater')"
   ]
  },
  {
   "cell_type": "markdown",
   "id": "3096907b",
   "metadata": {},
   "source": [
    "Since p value<0.05, we can reject the null hypothesis."
   ]
  },
  {
   "cell_type": "markdown",
   "id": "b3409cce",
   "metadata": {},
   "source": [
    "##### c)Perform the statistical test to identify whether preferred foot has any impact on potential. Also, perform the graphical analysis."
   ]
  },
  {
   "cell_type": "code",
   "execution_count": 8,
   "id": "4a406a46",
   "metadata": {},
   "outputs": [
    {
     "data": {
      "text/html": [
       "<div>\n",
       "<style scoped>\n",
       "    .dataframe tbody tr th:only-of-type {\n",
       "        vertical-align: middle;\n",
       "    }\n",
       "\n",
       "    .dataframe tbody tr th {\n",
       "        vertical-align: top;\n",
       "    }\n",
       "\n",
       "    .dataframe thead th {\n",
       "        text-align: right;\n",
       "    }\n",
       "</style>\n",
       "<table border=\"1\" class=\"dataframe\">\n",
       "  <thead>\n",
       "    <tr style=\"text-align: right;\">\n",
       "      <th></th>\n",
       "      <th>Name</th>\n",
       "      <th>Age</th>\n",
       "      <th>Nationality</th>\n",
       "      <th>Overall_rating</th>\n",
       "      <th>Potential</th>\n",
       "      <th>Club</th>\n",
       "      <th>Preferred Foot</th>\n",
       "      <th>International Reputation</th>\n",
       "      <th>Weak Foot</th>\n",
       "      <th>Skill Moves</th>\n",
       "      <th>Work Rate</th>\n",
       "      <th>Position</th>\n",
       "      <th>Jersey Number</th>\n",
       "      <th>Height</th>\n",
       "      <th>Weight</th>\n",
       "    </tr>\n",
       "  </thead>\n",
       "  <tbody>\n",
       "    <tr>\n",
       "      <th>1359</th>\n",
       "      <td>D. Chygrynskyi</td>\n",
       "      <td>31</td>\n",
       "      <td>Ukraine</td>\n",
       "      <td>76</td>\n",
       "      <td>76</td>\n",
       "      <td>AEK Athens</td>\n",
       "      <td>Right</td>\n",
       "      <td>2</td>\n",
       "      <td>3</td>\n",
       "      <td>2</td>\n",
       "      <td>Medium/ Medium</td>\n",
       "      <td>LCB</td>\n",
       "      <td>19</td>\n",
       "      <td>6.166667</td>\n",
       "      <td>187</td>\n",
       "    </tr>\n",
       "    <tr>\n",
       "      <th>1292</th>\n",
       "      <td>M. Destro</td>\n",
       "      <td>27</td>\n",
       "      <td>Italy</td>\n",
       "      <td>76</td>\n",
       "      <td>76</td>\n",
       "      <td>Bologna</td>\n",
       "      <td>Right</td>\n",
       "      <td>2</td>\n",
       "      <td>3</td>\n",
       "      <td>4</td>\n",
       "      <td>Medium/ Low</td>\n",
       "      <td>ST</td>\n",
       "      <td>22</td>\n",
       "      <td>5.083333</td>\n",
       "      <td>159</td>\n",
       "    </tr>\n",
       "    <tr>\n",
       "      <th>346</th>\n",
       "      <td>C. Bacca</td>\n",
       "      <td>31</td>\n",
       "      <td>Colombia</td>\n",
       "      <td>81</td>\n",
       "      <td>81</td>\n",
       "      <td>Villarreal CF</td>\n",
       "      <td>Right</td>\n",
       "      <td>3</td>\n",
       "      <td>2</td>\n",
       "      <td>3</td>\n",
       "      <td>Medium/ Low</td>\n",
       "      <td>LS</td>\n",
       "      <td>7</td>\n",
       "      <td>5.083333</td>\n",
       "      <td>170</td>\n",
       "    </tr>\n",
       "    <tr>\n",
       "      <th>442</th>\n",
       "      <td>K. Demirbay</td>\n",
       "      <td>24</td>\n",
       "      <td>Germany</td>\n",
       "      <td>80</td>\n",
       "      <td>84</td>\n",
       "      <td>TSG 1899 Hoffenheim</td>\n",
       "      <td>Left</td>\n",
       "      <td>2</td>\n",
       "      <td>4</td>\n",
       "      <td>4</td>\n",
       "      <td>Medium/ Medium</td>\n",
       "      <td>RCM</td>\n",
       "      <td>10</td>\n",
       "      <td>6.000000</td>\n",
       "      <td>159</td>\n",
       "    </tr>\n",
       "    <tr>\n",
       "      <th>1363</th>\n",
       "      <td>DÃªnildo Stein</td>\n",
       "      <td>30</td>\n",
       "      <td>Brazil</td>\n",
       "      <td>76</td>\n",
       "      <td>76</td>\n",
       "      <td>Cruzeiro</td>\n",
       "      <td>Left</td>\n",
       "      <td>1</td>\n",
       "      <td>3</td>\n",
       "      <td>3</td>\n",
       "      <td>High/ Medium</td>\n",
       "      <td>ST</td>\n",
       "      <td>11</td>\n",
       "      <td>5.083333</td>\n",
       "      <td>157</td>\n",
       "    </tr>\n",
       "    <tr>\n",
       "      <th>475</th>\n",
       "      <td>L. Digne</td>\n",
       "      <td>24</td>\n",
       "      <td>France</td>\n",
       "      <td>80</td>\n",
       "      <td>84</td>\n",
       "      <td>Everton</td>\n",
       "      <td>Left</td>\n",
       "      <td>2</td>\n",
       "      <td>3</td>\n",
       "      <td>4</td>\n",
       "      <td>High/ Medium</td>\n",
       "      <td>LB</td>\n",
       "      <td>12</td>\n",
       "      <td>5.083333</td>\n",
       "      <td>163</td>\n",
       "    </tr>\n",
       "    <tr>\n",
       "      <th>363</th>\n",
       "      <td>Vitolo</td>\n",
       "      <td>28</td>\n",
       "      <td>Spain</td>\n",
       "      <td>81</td>\n",
       "      <td>81</td>\n",
       "      <td>AtlÃ©tico Madrid</td>\n",
       "      <td>Right</td>\n",
       "      <td>2</td>\n",
       "      <td>4</td>\n",
       "      <td>3</td>\n",
       "      <td>High/ High</td>\n",
       "      <td>LM</td>\n",
       "      <td>23</td>\n",
       "      <td>6.083333</td>\n",
       "      <td>174</td>\n",
       "    </tr>\n",
       "    <tr>\n",
       "      <th>553</th>\n",
       "      <td>Fernando Torres</td>\n",
       "      <td>34</td>\n",
       "      <td>Spain</td>\n",
       "      <td>80</td>\n",
       "      <td>80</td>\n",
       "      <td>Sagan Tosu</td>\n",
       "      <td>Right</td>\n",
       "      <td>3</td>\n",
       "      <td>4</td>\n",
       "      <td>3</td>\n",
       "      <td>Medium/ Medium</td>\n",
       "      <td>LS</td>\n",
       "      <td>9</td>\n",
       "      <td>6.083333</td>\n",
       "      <td>174</td>\n",
       "    </tr>\n",
       "    <tr>\n",
       "      <th>1714</th>\n",
       "      <td>Y. Ayoub</td>\n",
       "      <td>24</td>\n",
       "      <td>Morocco</td>\n",
       "      <td>75</td>\n",
       "      <td>79</td>\n",
       "      <td>Feyenoord</td>\n",
       "      <td>Left</td>\n",
       "      <td>1</td>\n",
       "      <td>3</td>\n",
       "      <td>3</td>\n",
       "      <td>Medium/ Medium</td>\n",
       "      <td>CM</td>\n",
       "      <td>18</td>\n",
       "      <td>5.750000</td>\n",
       "      <td>154</td>\n",
       "    </tr>\n",
       "    <tr>\n",
       "      <th>773</th>\n",
       "      <td>Bastos</td>\n",
       "      <td>26</td>\n",
       "      <td>Angola</td>\n",
       "      <td>78</td>\n",
       "      <td>79</td>\n",
       "      <td>Lazio</td>\n",
       "      <td>Right</td>\n",
       "      <td>2</td>\n",
       "      <td>3</td>\n",
       "      <td>2</td>\n",
       "      <td>Medium/ High</td>\n",
       "      <td>CB</td>\n",
       "      <td>15</td>\n",
       "      <td>5.083333</td>\n",
       "      <td>170</td>\n",
       "    </tr>\n",
       "  </tbody>\n",
       "</table>\n",
       "</div>"
      ],
      "text/plain": [
       "                 Name  Age Nationality  Overall_rating  Potential  \\\n",
       "1359   D. Chygrynskyi   31     Ukraine              76         76   \n",
       "1292        M. Destro   27       Italy              76         76   \n",
       "346          C. Bacca   31    Colombia              81         81   \n",
       "442       K. Demirbay   24     Germany              80         84   \n",
       "1363   DÃªnildo Stein   30      Brazil              76         76   \n",
       "475          L. Digne   24      France              80         84   \n",
       "363            Vitolo   28       Spain              81         81   \n",
       "553   Fernando Torres   34       Spain              80         80   \n",
       "1714         Y. Ayoub   24     Morocco              75         79   \n",
       "773            Bastos   26      Angola              78         79   \n",
       "\n",
       "                     Club Preferred Foot  International Reputation  Weak Foot  \\\n",
       "1359           AEK Athens          Right                         2          3   \n",
       "1292              Bologna          Right                         2          3   \n",
       "346         Villarreal CF          Right                         3          2   \n",
       "442   TSG 1899 Hoffenheim           Left                         2          4   \n",
       "1363             Cruzeiro           Left                         1          3   \n",
       "475               Everton           Left                         2          3   \n",
       "363      AtlÃ©tico Madrid          Right                         2          4   \n",
       "553            Sagan Tosu          Right                         3          4   \n",
       "1714            Feyenoord           Left                         1          3   \n",
       "773                 Lazio          Right                         2          3   \n",
       "\n",
       "      Skill Moves       Work Rate Position  Jersey Number    Height  Weight  \n",
       "1359            2  Medium/ Medium      LCB             19  6.166667     187  \n",
       "1292            4     Medium/ Low       ST             22  5.083333     159  \n",
       "346             3     Medium/ Low       LS              7  5.083333     170  \n",
       "442             4  Medium/ Medium      RCM             10  6.000000     159  \n",
       "1363            3    High/ Medium       ST             11  5.083333     157  \n",
       "475             4    High/ Medium       LB             12  5.083333     163  \n",
       "363             3      High/ High       LM             23  6.083333     174  \n",
       "553             3  Medium/ Medium       LS              9  6.083333     174  \n",
       "1714            3  Medium/ Medium       CM             18  5.750000     154  \n",
       "773             2    Medium/ High       CB             15  5.083333     170  "
      ]
     },
     "execution_count": 8,
     "metadata": {},
     "output_type": "execute_result"
    }
   ],
   "source": [
    "### Create a sample dataframe to analyse;\n",
    "df_sample=df.sample(n=200)\n",
    "df_sample.head(10)   # without replacement"
   ]
  },
  {
   "cell_type": "code",
   "execution_count": 9,
   "id": "6e67f5f8",
   "metadata": {},
   "outputs": [],
   "source": [
    "## mu1: Potential of left.\n",
    "## mu2: Potential of right\n",
    "## H0: mu1=mu2 ; H1: mu1!=mu2\n",
    "left=df_sample[(df_sample['Preferred Foot']=='Left')]['Potential']\n",
    "right=df_sample[(df_sample['Preferred Foot']=='Right')]['Potential']"
   ]
  },
  {
   "cell_type": "code",
   "execution_count": 10,
   "id": "e68aaab0",
   "metadata": {},
   "outputs": [
    {
     "name": "stdout",
     "output_type": "stream",
     "text": [
      "p value of shapiro  1.141757252298703e-06\n",
      "p value of levene  0.5632865793685273\n"
     ]
    }
   ],
   "source": [
    "# conduct a two sample independent test\n",
    "# assumption checking\n",
    "stat_shap, p_value_shap = shapiro(df_sample['Potential'])\n",
    "stat_lev, p_value_lev = stats.levene(left,right)\n",
    "print('p value of shapiro ',p_value_shap)\n",
    "print('p value of levene ',p_value_lev)"
   ]
  },
  {
   "cell_type": "markdown",
   "id": "69ecde80",
   "metadata": {},
   "source": [
    " Since p value is less than 0.05 the data is not normal. So conduct non parametric test."
   ]
  },
  {
   "cell_type": "code",
   "execution_count": 11,
   "id": "2162e799",
   "metadata": {},
   "outputs": [
    {
     "data": {
      "text/plain": [
       "MannwhitneyuResult(statistic=3432.0, pvalue=0.26809028543498825)"
      ]
     },
     "execution_count": 11,
     "metadata": {},
     "output_type": "execute_result"
    }
   ],
   "source": [
    "# H0: pop_med_left = pop_med_right\n",
    "# H1: pop_med_left != pop_med_right\n",
    "stats.mannwhitneyu(left,right)"
   ]
  },
  {
   "cell_type": "raw",
   "id": "ab825e8a",
   "metadata": {},
   "source": [
    "Since p value is greater than 0.05, we accept the null hypothesis.\n",
    "Hence,preferred foot does not have any impact on potential."
   ]
  },
  {
   "cell_type": "code",
   "execution_count": 12,
   "id": "d3da52f3",
   "metadata": {},
   "outputs": [
    {
     "data": {
      "text/plain": [
       "<AxesSubplot:xlabel='Preferred Foot', ylabel='Potential'>"
      ]
     },
     "execution_count": 12,
     "metadata": {},
     "output_type": "execute_result"
    },
    {
     "data": {
      "image/png": "[encoded data removed]",
      "text/plain": [
       "<Figure size 432x288 with 1 Axes>"
      ]
     },
     "metadata": {
      "needs_background": "light"
     },
     "output_type": "display_data"
    }
   ],
   "source": [
    "sns.boxplot(data=df_sample,x='Preferred Foot',y='Potential')"
   ]
  },
  {
   "cell_type": "markdown",
   "id": "10eadf89",
   "metadata": {},
   "source": [
    "From the box plot both the IQR's are almost same and the preferred foot does not have any impact on potential."
   ]
  },
  {
   "cell_type": "markdown",
   "id": "196dfcd0",
   "metadata": {},
   "source": [
    "##### d)\tPerform the statistical test to identify the relation between the overall rating and potential. \n",
    "[Assume both are continuous data points]."
   ]
  },
  {
   "cell_type": "code",
   "execution_count": 13,
   "id": "6439c4af",
   "metadata": {},
   "outputs": [
    {
     "data": {
      "text/html": [
       "<div>\n",
       "<style scoped>\n",
       "    .dataframe tbody tr th:only-of-type {\n",
       "        vertical-align: middle;\n",
       "    }\n",
       "\n",
       "    .dataframe tbody tr th {\n",
       "        vertical-align: top;\n",
       "    }\n",
       "\n",
       "    .dataframe thead th {\n",
       "        text-align: right;\n",
       "    }\n",
       "</style>\n",
       "<table border=\"1\" class=\"dataframe\">\n",
       "  <thead>\n",
       "    <tr style=\"text-align: right;\">\n",
       "      <th></th>\n",
       "      <th>Name</th>\n",
       "      <th>Age</th>\n",
       "      <th>Nationality</th>\n",
       "      <th>Overall_rating</th>\n",
       "      <th>Potential</th>\n",
       "      <th>Club</th>\n",
       "      <th>Preferred Foot</th>\n",
       "      <th>International Reputation</th>\n",
       "      <th>Weak Foot</th>\n",
       "      <th>Skill Moves</th>\n",
       "      <th>Work Rate</th>\n",
       "      <th>Position</th>\n",
       "      <th>Jersey Number</th>\n",
       "      <th>Height</th>\n",
       "      <th>Weight</th>\n",
       "    </tr>\n",
       "  </thead>\n",
       "  <tbody>\n",
       "    <tr>\n",
       "      <th>1359</th>\n",
       "      <td>D. Chygrynskyi</td>\n",
       "      <td>31</td>\n",
       "      <td>Ukraine</td>\n",
       "      <td>76</td>\n",
       "      <td>76</td>\n",
       "      <td>AEK Athens</td>\n",
       "      <td>Right</td>\n",
       "      <td>2</td>\n",
       "      <td>3</td>\n",
       "      <td>2</td>\n",
       "      <td>Medium/ Medium</td>\n",
       "      <td>LCB</td>\n",
       "      <td>19</td>\n",
       "      <td>6.166667</td>\n",
       "      <td>187</td>\n",
       "    </tr>\n",
       "    <tr>\n",
       "      <th>1292</th>\n",
       "      <td>M. Destro</td>\n",
       "      <td>27</td>\n",
       "      <td>Italy</td>\n",
       "      <td>76</td>\n",
       "      <td>76</td>\n",
       "      <td>Bologna</td>\n",
       "      <td>Right</td>\n",
       "      <td>2</td>\n",
       "      <td>3</td>\n",
       "      <td>4</td>\n",
       "      <td>Medium/ Low</td>\n",
       "      <td>ST</td>\n",
       "      <td>22</td>\n",
       "      <td>5.083333</td>\n",
       "      <td>159</td>\n",
       "    </tr>\n",
       "    <tr>\n",
       "      <th>346</th>\n",
       "      <td>C. Bacca</td>\n",
       "      <td>31</td>\n",
       "      <td>Colombia</td>\n",
       "      <td>81</td>\n",
       "      <td>81</td>\n",
       "      <td>Villarreal CF</td>\n",
       "      <td>Right</td>\n",
       "      <td>3</td>\n",
       "      <td>2</td>\n",
       "      <td>3</td>\n",
       "      <td>Medium/ Low</td>\n",
       "      <td>LS</td>\n",
       "      <td>7</td>\n",
       "      <td>5.083333</td>\n",
       "      <td>170</td>\n",
       "    </tr>\n",
       "  </tbody>\n",
       "</table>\n",
       "</div>"
      ],
      "text/plain": [
       "                Name  Age Nationality  Overall_rating  Potential  \\\n",
       "1359  D. Chygrynskyi   31     Ukraine              76         76   \n",
       "1292       M. Destro   27       Italy              76         76   \n",
       "346         C. Bacca   31    Colombia              81         81   \n",
       "\n",
       "               Club Preferred Foot  International Reputation  Weak Foot  \\\n",
       "1359     AEK Athens          Right                         2          3   \n",
       "1292        Bologna          Right                         2          3   \n",
       "346   Villarreal CF          Right                         3          2   \n",
       "\n",
       "      Skill Moves       Work Rate Position  Jersey Number    Height  Weight  \n",
       "1359            2  Medium/ Medium      LCB             19  6.166667     187  \n",
       "1292            4     Medium/ Low       ST             22  5.083333     159  \n",
       "346             3     Medium/ Low       LS              7  5.083333     170  "
      ]
     },
     "execution_count": 13,
     "metadata": {},
     "output_type": "execute_result"
    }
   ],
   "source": [
    "df_sample.head(3)"
   ]
  },
  {
   "cell_type": "code",
   "execution_count": 14,
   "id": "114cbf31",
   "metadata": {},
   "outputs": [
    {
     "name": "stdout",
     "output_type": "stream",
     "text": [
      "p value for potential :  1.141757252298703e-06\n",
      "p value for over_rating :  5.765904247112541e-12\n"
     ]
    }
   ],
   "source": [
    "stat_pot, p_value_pot = shapiro(df_sample['Potential'])\n",
    "stat_or, p_value_or = shapiro(df_sample['Overall_rating'])\n",
    "print('p value for potential : ',p_value_pot)\n",
    "print('p value for over_rating : ',p_value_or)"
   ]
  },
  {
   "cell_type": "markdown",
   "id": "75f01272",
   "metadata": {},
   "source": [
    "Since the p val for potential and p val for over_rating is less than 0.05, we reject the null hypothesis and the data is not normal. So conduct non parametric test."
   ]
  },
  {
   "cell_type": "code",
   "execution_count": 15,
   "id": "a77e6b88",
   "metadata": {},
   "outputs": [
    {
     "data": {
      "text/plain": [
       "SpearmanrResult(correlation=0.6505753805038115, pvalue=1.88255745853786e-25)"
      ]
     },
     "execution_count": 15,
     "metadata": {},
     "output_type": "execute_result"
    }
   ],
   "source": [
    "# H0: There is no relationship between Overall_rating and Potential.\n",
    "# H1: There is a relationship between Overall_rating and Potential.\n",
    "stats.spearmanr(df_sample['Overall_rating'],df_sample['Potential'])"
   ]
  },
  {
   "cell_type": "markdown",
   "id": "aee16f0e",
   "metadata": {},
   "source": [
    "Since p value<0.05 we reject the null hypothesis. Hence there is a relationship between \n",
    "Overall_rating and Potential."
   ]
  },
  {
   "cell_type": "markdown",
   "id": "a3ad36f9",
   "metadata": {},
   "source": [
    "###### e)\tDoes skill move have any effect in overall rating. Perform the graphical analysis and the statistical analysis."
   ]
  },
  {
   "cell_type": "code",
   "execution_count": 16,
   "id": "4a00a44f",
   "metadata": {},
   "outputs": [
    {
     "data": {
      "text/plain": [
       "array([2, 4, 3, 5, 1], dtype=int64)"
      ]
     },
     "execution_count": 16,
     "metadata": {},
     "output_type": "execute_result"
    }
   ],
   "source": [
    "df_sample['Skill Moves'].unique()"
   ]
  },
  {
   "cell_type": "code",
   "execution_count": 17,
   "id": "ad32924c",
   "metadata": {},
   "outputs": [
    {
     "data": {
      "text/plain": [
       "<AxesSubplot:xlabel='Skill Moves', ylabel='Overall_rating'>"
      ]
     },
     "execution_count": 17,
     "metadata": {},
     "output_type": "execute_result"
    },
    {
     "data": {
      "image/png": "[encoded data removed]",
      "text/plain": [
       "<Figure size 432x288 with 1 Axes>"
      ]
     },
     "metadata": {
      "needs_background": "light"
     },
     "output_type": "display_data"
    }
   ],
   "source": [
    "sns.boxplot(data=df_sample,x='Skill Moves',y='Overall_rating')"
   ]
  },
  {
   "cell_type": "markdown",
   "id": "05c85c55",
   "metadata": {},
   "source": [
    "Interpretation:\n",
    "* Overall rating is very high when the skill move is 5 \n",
    "* IQR is very high when the skill move is 5\n",
    "* Overall rating is almost same when the skill moves are 2,3 and 4.\n",
    "* Overall rating varies for different skill moves"
   ]
  },
  {
   "cell_type": "code",
   "execution_count": 18,
   "id": "63d81e31",
   "metadata": {},
   "outputs": [],
   "source": [
    "# H0: There is no difference in overall rating for different skill moves.\n",
    "#      (Average overall rating is same for different skill moves)\n",
    "# H1: There is a difference in overall rating for different skill moves.\n",
    "#     (Average overall rating is different for atleast one of the skill moves)"
   ]
  },
  {
   "cell_type": "code",
   "execution_count": 19,
   "id": "980109bb",
   "metadata": {},
   "outputs": [
    {
     "name": "stdout",
     "output_type": "stream",
     "text": [
      "p value of shapiro : 5.765904247112541e-12\n"
     ]
    }
   ],
   "source": [
    "# shapiro to check normality\n",
    "stats,p_val=shapiro(df_sample['Overall_rating'])\n",
    "print('p value of shapiro :',p_val)"
   ]
  },
  {
   "cell_type": "code",
   "execution_count": 20,
   "id": "620cde17",
   "metadata": {},
   "outputs": [
    {
     "name": "stdout",
     "output_type": "stream",
     "text": [
      " p value for levene :  0.005162733967049559\n"
     ]
    }
   ],
   "source": [
    "stat,p_val=levene(df_sample[(df_sample['Skill Moves']==1)]['Overall_rating'],\n",
    "                       df_sample[(df_sample['Skill Moves']==2)]['Overall_rating'],\n",
    "                        df_sample[(df_sample['Skill Moves']==3)]['Overall_rating'],\n",
    "                       df_sample[(df_sample['Skill Moves']==4)]['Overall_rating'],\n",
    "                       df_sample[(df_sample['Skill Moves']==5)]['Overall_rating'])\n",
    "print(' p value for levene : ',p_val)"
   ]
  },
  {
   "cell_type": "raw",
   "id": "02964229",
   "metadata": {},
   "source": [
    " Since p value is less than 0.05 the data is not normal. So conduct non parametric test."
   ]
  },
  {
   "cell_type": "code",
   "execution_count": 21,
   "id": "b9f5d900",
   "metadata": {},
   "outputs": [],
   "source": [
    "# H0: There is no difference in overall rating for different skill moves.\n",
    "#      (Median value of overall rating is same for different skill moves)\n",
    "# H1: There is a difference in overall rating for different skill moves.\n",
    "#     (Median value of overall rating is different for atleast one of the skill moves)"
   ]
  },
  {
   "cell_type": "code",
   "execution_count": 22,
   "id": "9f0bf839",
   "metadata": {},
   "outputs": [
    {
     "data": {
      "text/plain": [
       "KruskalResult(statistic=24.48658721428184, pvalue=6.379713173859063e-05)"
      ]
     },
     "execution_count": 22,
     "metadata": {},
     "output_type": "execute_result"
    }
   ],
   "source": [
    "kruskal(df_sample[(df_sample['Skill Moves']==1)]['Overall_rating'],\n",
    "                             df_sample[(df_sample['Skill Moves']==2)]['Overall_rating'],\n",
    "                             df_sample[(df_sample['Skill Moves']==3)]['Overall_rating'],\n",
    "                             df_sample[(df_sample['Skill Moves']==4)]['Overall_rating'],\n",
    "                             df_sample[(df_sample['Skill Moves']==5)]['Overall_rating'])"
   ]
  },
  {
   "cell_type": "markdown",
   "id": "a41e092d",
   "metadata": {},
   "source": [
    "Since p value<0.05 we reject the Null hypothesis. Hence there is a difference in overall rating for various skill moves."
   ]
  },
  {
   "cell_type": "code",
   "execution_count": 23,
   "id": "7f19aed1",
   "metadata": {},
   "outputs": [
    {
     "data": {
      "text/html": [
       "<div>\n",
       "<style scoped>\n",
       "    .dataframe tbody tr th:only-of-type {\n",
       "        vertical-align: middle;\n",
       "    }\n",
       "\n",
       "    .dataframe tbody tr th {\n",
       "        vertical-align: top;\n",
       "    }\n",
       "\n",
       "    .dataframe thead th {\n",
       "        text-align: right;\n",
       "    }\n",
       "</style>\n",
       "<table border=\"1\" class=\"dataframe\">\n",
       "  <thead>\n",
       "    <tr style=\"text-align: right;\">\n",
       "      <th></th>\n",
       "      <th>date</th>\n",
       "      <th>duration</th>\n",
       "      <th>item</th>\n",
       "      <th>month</th>\n",
       "      <th>network</th>\n",
       "      <th>network_type</th>\n",
       "    </tr>\n",
       "  </thead>\n",
       "  <tbody>\n",
       "    <tr>\n",
       "      <th>0</th>\n",
       "      <td>15-10-14 6:58</td>\n",
       "      <td>221.321120</td>\n",
       "      <td>data</td>\n",
       "      <td>2014-11</td>\n",
       "      <td>data</td>\n",
       "      <td>data</td>\n",
       "    </tr>\n",
       "    <tr>\n",
       "      <th>1</th>\n",
       "      <td>15-10-14 6:58</td>\n",
       "      <td>81.610599</td>\n",
       "      <td>call</td>\n",
       "      <td>2014-11</td>\n",
       "      <td>Vodafone</td>\n",
       "      <td>mobile</td>\n",
       "    </tr>\n",
       "    <tr>\n",
       "      <th>2</th>\n",
       "      <td>15-10-14 14:46</td>\n",
       "      <td>143.109111</td>\n",
       "      <td>call</td>\n",
       "      <td>2014-11</td>\n",
       "      <td>Meteor</td>\n",
       "      <td>mobile</td>\n",
       "    </tr>\n",
       "    <tr>\n",
       "      <th>3</th>\n",
       "      <td>15-10-14 14:48</td>\n",
       "      <td>111.888670</td>\n",
       "      <td>call</td>\n",
       "      <td>2014-11</td>\n",
       "      <td>Tesco</td>\n",
       "      <td>mobile</td>\n",
       "    </tr>\n",
       "    <tr>\n",
       "      <th>4</th>\n",
       "      <td>15-10-14 17:27</td>\n",
       "      <td>246.695171</td>\n",
       "      <td>call</td>\n",
       "      <td>2014-11</td>\n",
       "      <td>Tesco</td>\n",
       "      <td>mobile</td>\n",
       "    </tr>\n",
       "  </tbody>\n",
       "</table>\n",
       "</div>"
      ],
      "text/plain": [
       "             date    duration  item    month   network network_type\n",
       "0   15-10-14 6:58  221.321120  data  2014-11      data         data\n",
       "1   15-10-14 6:58   81.610599  call  2014-11  Vodafone       mobile\n",
       "2  15-10-14 14:46  143.109111  call  2014-11    Meteor       mobile\n",
       "3  15-10-14 14:48  111.888670  call  2014-11     Tesco       mobile\n",
       "4  15-10-14 17:27  246.695171  call  2014-11     Tesco       mobile"
      ]
     },
     "execution_count": 23,
     "metadata": {},
     "output_type": "execute_result"
    }
   ],
   "source": [
    "df1=pd.read_csv('phone.csv')\n",
    "df1.head()"
   ]
  },
  {
   "cell_type": "markdown",
   "id": "7fcedf62",
   "metadata": {},
   "source": [
    "a) With 95% & 99% Confidence Interval find the range estimate of average duration calls made by all the network. Which of the Intervals are wider? Interpret the results."
   ]
  },
  {
   "cell_type": "code",
   "execution_count": 24,
   "id": "095d79e3",
   "metadata": {},
   "outputs": [
    {
     "data": {
      "text/plain": [
       "array(['data', 'Vodafone', 'Meteor', 'Tesco', 'Three', 'voicemail',\n",
       "       'landline'], dtype=object)"
      ]
     },
     "execution_count": 24,
     "metadata": {},
     "output_type": "execute_result"
    }
   ],
   "source": [
    "df1['network'].unique()"
   ]
  },
  {
   "cell_type": "code",
   "execution_count": 25,
   "id": "f68c9780",
   "metadata": {},
   "outputs": [
    {
     "data": {
      "text/plain": [
       "820"
      ]
     },
     "execution_count": 25,
     "metadata": {},
     "output_type": "execute_result"
    }
   ],
   "source": [
    "len(df1)"
   ]
  },
  {
   "cell_type": "code",
   "execution_count": 26,
   "id": "484eca6c",
   "metadata": {},
   "outputs": [
    {
     "data": {
      "text/plain": [
       "82.0"
      ]
     },
     "execution_count": 26,
     "metadata": {},
     "output_type": "execute_result"
    }
   ],
   "source": [
    "820*0.1"
   ]
  },
  {
   "cell_type": "code",
   "execution_count": 27,
   "id": "6f9fc88b",
   "metadata": {},
   "outputs": [
    {
     "data": {
      "text/html": [
       "<div>\n",
       "<style scoped>\n",
       "    .dataframe tbody tr th:only-of-type {\n",
       "        vertical-align: middle;\n",
       "    }\n",
       "\n",
       "    .dataframe tbody tr th {\n",
       "        vertical-align: top;\n",
       "    }\n",
       "\n",
       "    .dataframe thead th {\n",
       "        text-align: right;\n",
       "    }\n",
       "</style>\n",
       "<table border=\"1\" class=\"dataframe\">\n",
       "  <thead>\n",
       "    <tr style=\"text-align: right;\">\n",
       "      <th></th>\n",
       "      <th>date</th>\n",
       "      <th>duration</th>\n",
       "      <th>item</th>\n",
       "      <th>month</th>\n",
       "      <th>network</th>\n",
       "      <th>network_type</th>\n",
       "    </tr>\n",
       "  </thead>\n",
       "  <tbody>\n",
       "    <tr>\n",
       "      <th>161</th>\n",
       "      <td>06-11-14 9:47</td>\n",
       "      <td>161.547348</td>\n",
       "      <td>call</td>\n",
       "      <td>2014-11</td>\n",
       "      <td>Vodafone</td>\n",
       "      <td>mobile</td>\n",
       "    </tr>\n",
       "    <tr>\n",
       "      <th>297</th>\n",
       "      <td>25-11-14 18:47</td>\n",
       "      <td>208.040123</td>\n",
       "      <td>call</td>\n",
       "      <td>2014-12</td>\n",
       "      <td>voicemail</td>\n",
       "      <td>voicemail</td>\n",
       "    </tr>\n",
       "    <tr>\n",
       "      <th>4</th>\n",
       "      <td>15-10-14 17:27</td>\n",
       "      <td>246.695171</td>\n",
       "      <td>call</td>\n",
       "      <td>2014-11</td>\n",
       "      <td>Tesco</td>\n",
       "      <td>mobile</td>\n",
       "    </tr>\n",
       "    <tr>\n",
       "      <th>657</th>\n",
       "      <td>29-01-15 17:19</td>\n",
       "      <td>183.513776</td>\n",
       "      <td>sms</td>\n",
       "      <td>2015-02</td>\n",
       "      <td>Vodafone</td>\n",
       "      <td>mobile</td>\n",
       "    </tr>\n",
       "    <tr>\n",
       "      <th>135</th>\n",
       "      <td>04-11-14 14:26</td>\n",
       "      <td>184.848910</td>\n",
       "      <td>call</td>\n",
       "      <td>2014-11</td>\n",
       "      <td>voicemail</td>\n",
       "      <td>voicemail</td>\n",
       "    </tr>\n",
       "  </tbody>\n",
       "</table>\n",
       "</div>"
      ],
      "text/plain": [
       "               date    duration  item    month    network network_type\n",
       "161   06-11-14 9:47  161.547348  call  2014-11   Vodafone       mobile\n",
       "297  25-11-14 18:47  208.040123  call  2014-12  voicemail    voicemail\n",
       "4    15-10-14 17:27  246.695171  call  2014-11      Tesco       mobile\n",
       "657  29-01-15 17:19  183.513776   sms  2015-02   Vodafone       mobile\n",
       "135  04-11-14 14:26  184.848910  call  2014-11  voicemail    voicemail"
      ]
     },
     "execution_count": 27,
     "metadata": {},
     "output_type": "execute_result"
    }
   ],
   "source": [
    "df1_sample=df1.sample(n=82)\n",
    "df1_sample.head()"
   ]
  },
  {
   "cell_type": "code",
   "execution_count": 28,
   "id": "b0543a9b",
   "metadata": {},
   "outputs": [
    {
     "data": {
      "text/plain": [
       "82"
      ]
     },
     "execution_count": 28,
     "metadata": {},
     "output_type": "execute_result"
    }
   ],
   "source": [
    "len(df1_sample)"
   ]
  },
  {
   "cell_type": "code",
   "execution_count": 29,
   "id": "392db882",
   "metadata": {},
   "outputs": [
    {
     "data": {
      "text/plain": [
       "array(['Vodafone', 'voicemail', 'Tesco', 'Meteor', 'data', 'landline',\n",
       "       'Three'], dtype=object)"
      ]
     },
     "execution_count": 29,
     "metadata": {},
     "output_type": "execute_result"
    }
   ],
   "source": [
    "df1_sample['network'].unique()"
   ]
  },
  {
   "cell_type": "code",
   "execution_count": 34,
   "id": "32f3a1b9",
   "metadata": {},
   "outputs": [
    {
     "name": "stdout",
     "output_type": "stream",
     "text": [
      "Duration call range with 95% confid interval is : (142.47822552094308, 162.25571609613016)\n",
      "Duration call range with 99% confid interval is : (139.37095655111546, 165.3629850659578)\n"
     ]
    }
   ],
   "source": [
    "# averaage duration call range for different network\n",
    "# with 95%\n",
    "xbar=df1_sample['duration'].mean()\n",
    "sigma=df1['duration'].std()\n",
    "n=82\n",
    "den=np.sqrt(n)\n",
    "error= sigma/den\n",
    "cv1=st.norm.interval(0.95,loc=xbar,scale=error)\n",
    "print('Duration call range with 95% confid interval is :',cv1)\n",
    "cv2=st.norm.interval(0.99,loc=xbar,scale=error)\n",
    "print('Duration call range with 99% confid interval is :',cv2)"
   ]
  },
  {
   "cell_type": "code",
   "execution_count": 36,
   "id": "0710b91f",
   "metadata": {},
   "outputs": [
    {
     "data": {
      "text/plain": [
       "152.36697080853662"
      ]
     },
     "execution_count": 36,
     "metadata": {},
     "output_type": "execute_result"
    }
   ],
   "source": [
    "xbar=df1_sample['duration'].mean()\n",
    "xbar\n"
   ]
  },
  {
   "cell_type": "raw",
   "id": "6d0add96",
   "metadata": {},
   "source": [
    "Duration call range with 99% confid interval is wider."
   ]
  },
  {
   "cell_type": "markdown",
   "id": "a9f7d637",
   "metadata": {},
   "source": [
    "*The bandwidth is very high for 99% confidence interval. 99% of the sample mean are hypothesised to be in this region (140.1173338940422, 166.10936240888452)\n",
    "*95% of the sample mean are hypothesised to be in this region (143.22460286386982, 163.0020934390569)"
   ]
  },
  {
   "cell_type": "markdown",
   "id": "b32ec9ab",
   "metadata": {},
   "source": [
    "##### b) Perform statistical analysis to check whether the networks are equally distributed in the dataset."
   ]
  },
  {
   "cell_type": "markdown",
   "id": "425352a3",
   "metadata": {},
   "source": [
    "The null and alternative hypothesis is:\n",
    "\n",
    "H0: There is no significant difference between the observed and expected values.\n",
    "H1: There is a significant difference between the observed and expected values."
   ]
  },
  {
   "cell_type": "code",
   "execution_count": null,
   "id": "a77fcd64",
   "metadata": {},
   "outputs": [],
   "source": [
    "obs=list(df1_sample['network'].value_counts())\n",
    "exp=len(df1_sample['network'])/len(obs)\n",
    "expec=[]\n",
    "for i in range(7):\n",
    "    expec.append(exp)\n",
    "chisquare(f_obs=obs,f_exp=expec)"
   ]
  },
  {
   "cell_type": "markdown",
   "id": "df3abf3e",
   "metadata": {},
   "source": [
    "Since p value is less than 0.05, we reject the null hypothesis.\n",
    "Hence there is a significant difference between the observed and expected values.\n",
    "therefor they are not equally distributed."
   ]
  },
  {
   "cell_type": "code",
   "execution_count": null,
   "id": "9dafb1e5",
   "metadata": {},
   "outputs": [],
   "source": [
    "sns.distplot(x)"
   ]
  },
  {
   "cell_type": "code",
   "execution_count": null,
   "id": "19845fd8",
   "metadata": {},
   "outputs": [],
   "source": [
    "shapiro(x)"
   ]
  },
  {
   "cell_type": "code",
   "execution_count": null,
   "id": "b9fea924",
   "metadata": {},
   "outputs": [],
   "source": [
    "sns.countplot(data=df1,x='network')"
   ]
  },
  {
   "cell_type": "markdown",
   "id": "a1dc1f21",
   "metadata": {},
   "source": [
    "##### c) Plot the distribution of duration with respect to each network in the same graph and \n",
    "Interpret the results from the graph."
   ]
  },
  {
   "cell_type": "code",
   "execution_count": null,
   "id": "8eed2de8",
   "metadata": {},
   "outputs": [],
   "source": [
    "sns.boxplot(data=df1_sample,x='network',y='duration')"
   ]
  },
  {
   "cell_type": "markdown",
   "id": "eab4c5ea",
   "metadata": {},
   "source": [
    "The median value of duration for different network is around 125 to 175\n",
    "The duration for voice mail is around 175.\n",
    "Maximum duration is recorded for data and minimum duration is recorded for Vodafone.\n",
    "IQR is very high for Tesco."
   ]
  },
  {
   "cell_type": "markdown",
   "id": "ab9c4c5e",
   "metadata": {},
   "source": [
    "###### d)\tPerform statistical tests to identify the relation between item and duration. Detailed \n",
    "explanation of relation between the classes is required."
   ]
  },
  {
   "cell_type": "code",
   "execution_count": null,
   "id": "33229802",
   "metadata": {},
   "outputs": [],
   "source": [
    "df1_sample['item'].unique()"
   ]
  },
  {
   "cell_type": "code",
   "execution_count": null,
   "id": "61cd9cf0",
   "metadata": {},
   "outputs": [],
   "source": [
    "shapiro(df1_sample['duration'])"
   ]
  },
  {
   "cell_type": "raw",
   "id": "0495cf51",
   "metadata": {},
   "source": [
    "Since p value is greater than 0.05, the data is normal."
   ]
  },
  {
   "cell_type": "code",
   "execution_count": null,
   "id": "8f6aa397",
   "metadata": {},
   "outputs": [],
   "source": [
    "stats.levene(df1_sample[(df1_sample['item']=='data')]['duration'],\n",
    "              df1_sample[(df1_sample['item']=='call')]['duration'],\n",
    "              df1_sample[(df1_sample['item']=='sms')]['duration'])"
   ]
  },
  {
   "cell_type": "markdown",
   "id": "e180fa10",
   "metadata": {},
   "source": [
    "Since p value is greater than 0.05, there is a equality of variance"
   ]
  },
  {
   "cell_type": "code",
   "execution_count": null,
   "id": "55babd84",
   "metadata": {},
   "outputs": [],
   "source": [
    "# H0 : Average duration is same for all the items\n",
    "# H1 : Average duration is different for atleast for atleast one of the items\n",
    "stats.f_oneway(df1_sample[(df1_sample['item']=='data')]['duration'],\n",
    "              df1_sample[(df1_sample['item']=='call')]['duration'],\n",
    "              df1_sample[(df1_sample['item']=='sms')]['duration'])"
   ]
  },
  {
   "cell_type": "markdown",
   "id": "2ac25a73",
   "metadata": {},
   "source": [
    "Since the p value is greater than 0.05, we fail to reject the null hypothesis.(Accept null)\n",
    "Hence the Average duration is same for all the items."
   ]
  },
  {
   "cell_type": "markdown",
   "id": "15962256",
   "metadata": {},
   "source": [
    "###### e)\tPerform statistical tests to identify the relation between network and network_type. "
   ]
  },
  {
   "cell_type": "code",
   "execution_count": null,
   "id": "929fbd2d",
   "metadata": {},
   "outputs": [],
   "source": [
    "# H0: Network and Network type are independent \n",
    "# H1: Network and Network type are not independent"
   ]
  },
  {
   "cell_type": "code",
   "execution_count": null,
   "id": "0ee4df71",
   "metadata": {},
   "outputs": [],
   "source": [
    "df1_sample['network'].unique()"
   ]
  },
  {
   "cell_type": "code",
   "execution_count": null,
   "id": "f84d4037",
   "metadata": {},
   "outputs": [],
   "source": [
    "table=pd.crosstab(df1_sample['network'],df1_sample['network_type'])\n",
    "obs=table.values\n",
    "chi2_contingency(observed = obs, correction = False)"
   ]
  },
  {
   "cell_type": "markdown",
   "id": "8fd1067a",
   "metadata": {},
   "source": [
    "Here the p value is 5.302106907806633e-42 which is less than 0.05\n",
    "Hence we reject the null hypothesis.\n",
    "Therfeore Network and Network type are dependent on each other"
   ]
  },
  {
   "cell_type": "code",
   "execution_count": null,
   "id": "39ea9e34",
   "metadata": {},
   "outputs": [],
   "source": []
  }
 ],
 "metadata": {
  "kernelspec": {
   "display_name": "Python 3",
   "language": "python",
   "name": "python3"
  },
  "language_info": {
   "codemirror_mode": {
    "name": "ipython",
    "version": 3
   },
   "file_extension": ".py",
   "mimetype": "text/x-python",
   "name": "python",
   "nbconvert_exporter": "python",
   "pygments_lexer": "ipython3",
   "version": "3.8.8"
  }
 },
 "nbformat": 4,
 "nbformat_minor": 5
}
